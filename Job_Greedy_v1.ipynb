{
  "nbformat": 4,
  "nbformat_minor": 0,
  "metadata": {
    "colab": {
      "name": "Job_Greedy_v1.ipynb",
      "provenance": []
    },
    "kernelspec": {
      "name": "python3",
      "display_name": "Python 3"
    }
  },
  "cells": [
    {
      "cell_type": "code",
      "metadata": {
        "id": "Uba4IDc0aRUF",
        "colab_type": "code",
        "colab": {}
      },
      "source": [
        "from operator import itemgetter\n",
        "import pandas as pd"
      ],
      "execution_count": 0,
      "outputs": []
    },
    {
      "cell_type": "code",
      "metadata": {
        "id": "OHjcTv9KaXE-",
        "colab_type": "code",
        "colab": {}
      },
      "source": [
        "class Scheduling:\n",
        "  def __init__(self, jobs):\n",
        "    self.jobs = jobs\n",
        "\n",
        "  def schedule(self, n, deadline):\n",
        "    self.sdl = deadline #var store deadline\n",
        "    self.J = []\n",
        "    self.J.append(self.jobs[1])\n",
        "    self.x = 2\n",
        "    while (self.x < n):\n",
        "      self.K = self.J.copy()\n",
        "      self.K.append(self.jobs[self.x])\n",
        "      self.x = self.x + 1\n",
        "      self.feasibility = self.feasible(self.K, self.sdl)\n",
        "      if self.feasibility == True:\n",
        "        self.J = self.K.copy()\n",
        "\n",
        "    return self.J\n",
        "  \n",
        "  def feasible(self, K, fdl):\n",
        "    self.tmp = K\n",
        "    self.isFeasible = True\n",
        "\n",
        "    self.i = 0\n",
        "    self.j = 1\n",
        "    self.k = 0\n",
        "\n",
        "    while self.i < len(self.tmp):\n",
        "      while self.j < len(self.tmp):\n",
        "        self.index1 = self.jobs.index(self.tmp[self.i])\n",
        "        self.index2 = self.jobs.index(self.tmp[self.j])\n",
        "        self.j = self.j + 1\n",
        "        if (fdl[self.index1] > fdl[self.index2]):\n",
        "          self.tmp[self.i], self.tmp[self.j] = self.tmp[self.j], self.tmp[self.i]\n",
        "      \n",
        "      self.i = self.i + 1\n",
        "    \n",
        "    while self.k < len(self.tmp):\n",
        "      self.job = self.tmp[self.k]\n",
        "      self.jobindex = self.jobs.index(self.job)\n",
        "      self.dlineval = fdl[self.jobindex]\n",
        "      self.ftest = self.k + 1\n",
        "      self.k = self.k + 1\n",
        "      if (self.dlineval < self.ftest):\n",
        "        self.isFeasible = False\n",
        "        break\n",
        "    \n",
        "    return self.isFeasible\n",
        "\n"
      ],
      "execution_count": 0,
      "outputs": []
    },
    {
      "cell_type": "code",
      "metadata": {
        "id": "VR4ZH1KXdzE4",
        "colab_type": "code",
        "colab": {
          "base_uri": "https://localhost:8080/",
          "height": 153
        },
        "outputId": "66b4670f-646d-46f2-bacc-14300cb90e61"
      },
      "source": [
        "def main():\n",
        "  n = 7\n",
        "  jobs = ['A', 'B', 'C', 'D', 'E', 'F', 'G']\n",
        "  deadline = [3, 4, 4, 1, 3, 2, 1]\n",
        "  profit = [35, 46, 52, 30, 36, 56, 40]\n",
        "\n",
        "  midresult = [list(x) for x in zip(deadline, profit, jobs)]\n",
        "  midresult.sort(key=lambda k: (k[0], -k[1]))\n",
        "  deadline, profit, jobs = map(list, zip(*midresult))\n",
        "\n",
        "  sins = Scheduling(jobs)\n",
        "  sjobs = sins.schedule(n, deadline)\n",
        "  print(\"\\n Jobs\", sjobs)\n",
        "\n",
        "  finalprofit = []\n",
        "  finaldl = []\n",
        "  profitscore = 0\n",
        "\n",
        "  for c in range(len(sjobs)):\n",
        "    item = sjobs[c]\n",
        "    jobsindex = jobs.index(item)\n",
        "    finalprofit.append(profit[jobsindex])\n",
        "    finaldl.append(deadline[jobsindex])\n",
        "    profitscore += profit[jobsindex]\n",
        "\n",
        "  print(\"\\n profit\", finalprofit)\n",
        "  print(\"\\n deadline\", finaldl)\n",
        "  print(\"\\n score\", profitscore)\n",
        "\n",
        "if __name__ == \"__main__\":\n",
        "  main()"
      ],
      "execution_count": 38,
      "outputs": [
        {
          "output_type": "stream",
          "text": [
            "\n",
            " Jobs ['D', 'F', 'E', 'C']\n",
            "\n",
            " profit [30, 56, 36, 52]\n",
            "\n",
            " deadline [1, 2, 3, 4]\n",
            "\n",
            " score 174\n"
          ],
          "name": "stdout"
        }
      ]
    }
  ]
}